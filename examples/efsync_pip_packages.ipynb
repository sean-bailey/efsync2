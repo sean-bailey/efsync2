{
 "cells": [
  {
   "cell_type": "markdown",
   "metadata": {
    "colab_type": "text",
    "id": "view-in-github"
   },
   "source": [
    "<a href=\"https://colab.research.google.com/github/philschmid/efsync/blob/main/examples/efsync_pip_packages.ipynb\" target=\"_parent\"><img src=\"https://colab.research.google.com/assets/colab-badge.svg\" alt=\"Open In Colab\"/></a>"
   ]
  },
  {
   "cell_type": "markdown",
   "metadata": {
    "colab_type": "text",
    "id": "G2KJBvSLKmCy"
   },
   "source": [
    "# Example Notebook for efsync installing pip packages\n",
    "\n",
    "this notebooks includes examples for the `CLI` and the `SDK`. \n",
    "\n",
    "This Notebook can be runned in google colab. "
   ]
  },
  {
   "cell_type": "code",
   "execution_count": null,
   "metadata": {},
   "outputs": [],
   "source": [
    "!pip3 install efsync2"
   ]
  },
  {
   "cell_type": "markdown",
   "metadata": {},
   "source": [
    "# Check installed version"
   ]
  },
  {
   "cell_type": "code",
   "execution_count": 46,
   "metadata": {},
   "outputs": [
    {
     "name": "stdout",
     "output_type": "stream",
     "text": [
      "efsync==0.9.20\r\n"
     ]
    }
   ],
   "source": [
    "!pip freeze | grep efsync2"
   ]
  },
  {
   "cell_type": "code",
   "execution_count": 16,
   "metadata": {
    "scrolled": true
   },
   "outputs": [
    {
     "name": "stdout",
     "output_type": "stream",
     "text": [
      "usage: efsync <command> [<args>]\r\n",
      "\r\n",
      "optional arguments:\r\n",
      "  -h, --help            show this help message and exit\r\n",
      "  --version, -v         show program version\r\n",
      "  --requirements REQUIREMENTS, -r REQUIREMENTS\r\n",
      "                        path of your requirements.txt\r\n",
      "  --config_file CONFIG_FILE, -cf CONFIG_FILE\r\n",
      "                        path of your efsync.yaml\r\n",
      "  --python_version PYTHON_VERSION, -py PYTHON_VERSION\r\n",
      "                        Python version used to install dependencies\r\n",
      "  --efs_pip_dir EFS_PIP_DIR, -epd EFS_PIP_DIR\r\n",
      "                        directory where the pip packages will be installed on\r\n",
      "                        efs\r\n",
      "  --efs_filesystem_id EFS_FILESYSTEM_ID, -efi EFS_FILESYSTEM_ID\r\n",
      "                        File System ID from the EFS filesystem\r\n",
      "  --clean_efs CLEAN_EFS, -ce CLEAN_EFS\r\n",
      "                        Defines if the efs should be cleaned up before\r\n",
      "                        uploading\r\n",
      "  --file_dir FILE_DIR, -fd FILE_DIR\r\n",
      "                        directory where all other files will be placed\r\n",
      "  --aws_profile AWS_PROFILE, -ap AWS_PROFILE\r\n",
      "                        name of the used AWS profile\r\n",
      "  --aws_region AWS_REGION, -ar AWS_REGION\r\n",
      "                        aws region where the efs is running\r\n",
      "  --subnet_Id SUBNET_ID, -sbd SUBNET_ID\r\n",
      "                        subnet id of the efs\r\n",
      "  --ec2_key_name EC2_KEY_NAME, -ekn EC2_KEY_NAME\r\n",
      "                        temporary key name for the ec2 instance\r\n",
      "  --file_dir_on_ec2 FILE_DIR_ON_EC2, -fdoe FILE_DIR_ON_EC2\r\n",
      "                        name of the directory where your file from <file_dir>\r\n",
      "                        will be uploaded\r\n",
      "  --s3_bucket S3_BUCKET, -s3b S3_BUCKET\r\n",
      "                        s3 bucket name from where the files will be downloaded\r\n",
      "  --s3_keyprefix S3_KEYPREFIX, -s3k S3_KEYPREFIX\r\n",
      "                        s3 keyprefix of the directory in s3. Files will be\r\n",
      "                        downloaded\r\n"
     ]
    }
   ],
   "source": [
    "!efsync2 -h"
   ]
  },
  {
   "cell_type": "code",
   "execution_count": 17,
   "metadata": {},
   "outputs": [],
   "source": [
    "from efsync2 import efsync"
   ]
  },
  {
   "cell_type": "markdown",
   "metadata": {},
   "source": [
    "---"
   ]
  },
  {
   "cell_type": "markdown",
   "metadata": {},
   "source": [
    "## Create `requirements.txt` "
   ]
  },
  {
   "cell_type": "code",
   "execution_count": 7,
   "metadata": {},
   "outputs": [
    {
     "name": "stdout",
     "output_type": "stream",
     "text": [
      "Overwriting ./requirements.txt\n"
     ]
    }
   ],
   "source": [
    "%%writefile ./requirements.txt\n",
    "\n",
    "pyjokes\n",
    "pandas\n",
    "numpy\n",
    "requests"
   ]
  },
  {
   "cell_type": "markdown",
   "metadata": {},
   "source": [
    "# Example with `efsync.yaml`"
   ]
  },
  {
   "cell_type": "code",
   "execution_count": 8,
   "metadata": {},
   "outputs": [
    {
     "name": "stdout",
     "output_type": "stream",
     "text": [
      "Overwriting ./efsync.yaml\n"
     ]
    }
   ],
   "source": [
    "%%writefile ./efsync.yaml\n",
    "\n",
    "#standard configuration\n",
    "efs_filesystem_id: fs-2226b27a # aws efs filesystem id (moint point)\n",
    "subnet_Id: subnet-17f97a7d # subnet of which the efs is running in\n",
    "ec2_key_name: efsync-asd913fjgq3 # required key name for starting the ec2 instance\n",
    "clean_efs: all # Defines if the EFS should be cleaned up before. values: `'all'`,`'pip'`,`'file'` uploading\n",
    "# aws profile configuration\n",
    "aws_profile: schueler-vz # aws iam profile with required permission configured in .aws/credentials\n",
    "aws_region: eu-central-1 # the aws region where the efs is running\n",
    "\n",
    "# pip packages configurations\n",
    "efs_pip_dir: lib # pip directory on ec2\n",
    "python_version: 3.8 # python version used for installing pip packages -> should be used as lambda runtime afterwads\n",
    "requirements: requirements.txt # path + file to requirements.txt which holds the installable pip packages"
   ]
  },
  {
   "cell_type": "code",
   "execution_count": 9,
   "metadata": {},
   "outputs": [
    {
     "name": "stdout",
     "output_type": "stream",
     "text": [
      "2020-10-25 17:55:55,061 - efsync - starting....\n",
      "2020-10-25 17:55:55,062 - efsync - loading config\n",
      "2020-10-25 17:55:55,077 - efsync - creating security group\n",
      "2020-10-25 17:55:55,567 - efsync - loading default security group\n",
      "2020-10-25 17:55:55,716 - efsync - creating ssh key for scp in memory\n",
      "2020-10-25 17:55:56,335 - efsync - starting ec2 instance with security group sg-0f25eeb79a9ce2478 and subnet_Id subnet-17f97a7d\n",
      "2020-10-25 18:00:59,841 - efsync - stopping ec2 instance with instance id i-034ae8dbb7b99f9e5\n",
      "2020-10-25 18:01:45,491 - efsync - deleting iam profile\n",
      "2020-10-25 18:01:46,528 - efsync - deleting ssh key\n",
      "2020-10-25 18:01:46,712 - efsync - deleting security group\n",
      "2020-10-25 18:01:47,022 - efsync - #################### finished after 5.866 minutes ####################\n"
     ]
    },
    {
     "data": {
      "text/plain": [
       "True"
      ]
     },
     "execution_count": 9,
     "metadata": {},
     "output_type": "execute_result"
    }
   ],
   "source": [
    "from efsync2 import efsync\n",
    "\n",
    "efsync('./efsync.yaml')"
   ]
  },
  {
   "cell_type": "markdown",
   "metadata": {},
   "source": [
    "# Example with pyton `dict`"
   ]
  },
  {
   "cell_type": "code",
   "execution_count": 10,
   "metadata": {},
   "outputs": [],
   "source": [
    "config = {\n",
    "  'efs_filesystem_id': 'fs-2226b27a', # aws efs filesystem id (moint point)\n",
    "  'subnet_Id': 'subnet-17f97a7d', # subnet of which the efs is running in\n",
    "  'ec2_key_name':'efsync-asd913fjgq3',  # required key name for starting the ec2 instance\n",
    "  'clean_efs': 'all', # Defines if the EFS should be cleaned up before. values: `'all'`,`'pip'`,`'file'` uploading\n",
    "  'aws_profile': 'schueler-vz', # aws iam profile with required permission configured in .aws/credentials\n",
    "  'aws_region': 'eu-central-1', # the aws region where the efs is running\n",
    "  'efs_pip_dir': 'lib',  # pip directory on ec2\n",
    "  'python_version': 3.8,  # python version used for installing pip packages -> should be used as lambda runtime afterwads\n",
    "  'requirements': 'requirements.txt', # path + file to requirements.txt which holds the installable pip packages\n",
    "}"
   ]
  },
  {
   "cell_type": "code",
   "execution_count": 18,
   "metadata": {},
   "outputs": [
    {
     "name": "stdout",
     "output_type": "stream",
     "text": [
      "2020-10-25 18:09:42,130 - efsync - starting....\n",
      "2020-10-25 18:09:42,131 - efsync - loading config\n",
      "2020-10-25 18:09:42,143 - efsync - creating security group\n",
      "2020-10-25 18:09:42,523 - efsync - loading default security group\n",
      "2020-10-25 18:09:42,687 - efsync - creating ssh key for scp in memory\n",
      "2020-10-25 18:09:43,214 - efsync - starting ec2 instance with security group sg-0baacfbb38b8c541d and subnet_Id subnet-17f97a7d\n",
      "2020-10-25 18:15:01,903 - efsync - stopping ec2 instance with instance id i-023f3dfead9e2fd2f\n",
      "2020-10-25 18:15:47,713 - efsync - deleting iam profile\n",
      "2020-10-25 18:15:49,364 - efsync - deleting ssh key\n",
      "2020-10-25 18:15:49,559 - efsync - deleting security group\n",
      "2020-10-25 18:15:49,859 - efsync - #################### finished after 6.128833333333334 minutes ####################\n"
     ]
    },
    {
     "data": {
      "text/plain": [
       "True"
      ]
     },
     "execution_count": 18,
     "metadata": {},
     "output_type": "execute_result"
    }
   ],
   "source": [
    "from efsync2 import efsync\n",
    "\n",
    "\n",
    "efsync(config)"
   ]
  },
  {
   "cell_type": "markdown",
   "metadata": {},
   "source": [
    "# Example with cli and `efsync.yaml`"
   ]
  },
  {
   "cell_type": "code",
   "execution_count": 23,
   "metadata": {},
   "outputs": [
    {
     "name": "stdout",
     "output_type": "stream",
     "text": [
      "2020-10-25 18:19:47,236 - efsync - starting....\n",
      "2020-10-25 18:19:47,236 - efsync - loading config\n",
      "2020-10-25 18:19:47,251 - efsync - creating security group\n",
      "2020-10-25 18:19:47,728 - efsync - loading default security group\n",
      "2020-10-25 18:19:47,878 - efsync - creating ssh key for scp in memory\n",
      "2020-10-25 18:19:48,432 - efsync - starting ec2 instance with security group sg-091caa95c9ae7130c and subnet_Id subnet-17f97a7d\n",
      "{'Arn': 'arn:aws:iam::770710496542:instance-profile/efsync_instance_profile_role', 'Name': 'efsync_instance_profile_role'}\n",
      "2020-10-25 18:24:52,266 - efsync - stopping ec2 instance with instance id i-0efa9c6b09f735de8\n",
      "2020-10-25 18:25:37,931 - efsync - deleting iam profile\n",
      "2020-10-25 18:25:39,057 - efsync - deleting ssh key\n",
      "2020-10-25 18:25:39,251 - efsync - deleting security group\n",
      "2020-10-25 18:25:39,551 - efsync - #################### finished after 5.871833333333333 minutes ####################\n"
     ]
    }
   ],
   "source": [
    "!efsync2 -cf efsync.yaml"
   ]
  },
  {
   "cell_type": "markdown",
   "metadata": {},
   "source": [
    "# Example with cli and parameters"
   ]
  },
  {
   "cell_type": "code",
   "execution_count": 47,
   "metadata": {
    "scrolled": false
   },
   "outputs": [
    {
     "name": "stdout",
     "output_type": "stream",
     "text": [
      "2020-10-25 18:40:00,587 - efsync - starting....\n",
      "2020-10-25 18:40:00,587 - efsync - loading config\n",
      "2020-10-25 18:40:00,597 - efsync - creating security group\n",
      "2020-10-25 18:40:01,073 - efsync - loading default security group\n",
      "2020-10-25 18:40:01,246 - efsync - creating ssh key for scp in memory\n",
      "2020-10-25 18:40:01,818 - efsync - starting ec2 instance with security group sg-007f66499e888edab and subnet_Id subnet-17f97a7d\n",
      "2020-10-25 18:45:15,757 - efsync - stopping ec2 instance with instance id i-0090f12b389b9c076\n",
      "2020-10-25 18:46:01,407 - efsync - deleting iam profile\n",
      "2020-10-25 18:46:02,651 - efsync - deleting ssh key\n",
      "2020-10-25 18:46:02,862 - efsync - deleting security group\n",
      "2020-10-25 18:46:03,158 - efsync - #################### finished after 6.042833333333333 minutes ####################\n"
     ]
    }
   ],
   "source": [
    "!efsync2 --efs_filesystem_id  fs-2226b27a \\\n",
    "        --subnet_Id subnet-17f97a7d \\\n",
    "        --ec2_key_name efsync-asd913fjgq3 \\\n",
    "        --clean_efs all \\\n",
    "        --aws_profile schueler-vz \\\n",
    "        --aws_region eu-central-1 \\\n",
    "        --efs_pip_dir lib \\\n",
    "        --python_version 3.8 \\\n",
    "        --requirements requirements.txt"
   ]
  },
  {
   "cell_type": "code",
   "execution_count": null,
   "metadata": {},
   "outputs": [],
   "source": []
  }
 ],
 "metadata": {
  "colab": {
   "authorship_tag": "ABX9TyPDRbc5orFAO1WZPC4Bxn2Y",
   "include_colab_link": true,
   "name": "efsync example sdk & cli.ipynb",
   "provenance": []
  },
  "kernelspec": {
   "display_name": "Python 3",
   "language": "python",
   "name": "python3"
  },
  "language_info": {
   "codemirror_mode": {
    "name": "ipython",
    "version": 3
   },
   "file_extension": ".py",
   "mimetype": "text/x-python",
   "name": "python",
   "nbconvert_exporter": "python",
   "pygments_lexer": "ipython3",
   "version": "3.8.10"
  }
 },
 "nbformat": 4,
 "nbformat_minor": 1
}
