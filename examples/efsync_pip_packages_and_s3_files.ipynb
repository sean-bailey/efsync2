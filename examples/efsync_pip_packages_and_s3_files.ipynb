{
 "cells": [
  {
   "cell_type": "markdown",
   "metadata": {
    "colab_type": "text",
    "id": "view-in-github"
   },
   "source": [
    "<a href=\"https://colab.research.google.com/github/philschmid/efsync/blob/main/examples/efsync_pip_packages_and_s3_files.ipynb\" target=\"_parent\"><img src=\"https://colab.research.google.com/assets/colab-badge.svg\" alt=\"Open In Colab\"/></a>"
   ]
  },
  {
   "cell_type": "markdown",
   "metadata": {
    "colab_type": "text",
    "id": "G2KJBvSLKmCy"
   },
   "source": [
    "# Example Notebook for efsync installing pip packages and syncing files from s3 to efs\n",
    "\n",
    "this notebooks includes examples for the `CLI` and the `SDK`. \n",
    "\n",
    "This Notebook can be runned in google colab. "
   ]
  },
  {
   "cell_type": "code",
   "execution_count": 2,
   "metadata": {
    "colab": {
     "base_uri": "https://localhost:8080/",
     "height": 601
    },
    "colab_type": "code",
    "id": "su7WWjnHKhVd",
    "outputId": "4d83a1ca-5009-41d1-f307-9d36a3cb9c9b",
    "scrolled": true
   },
   "outputs": [
    {
     "name": "stdout",
     "output_type": "stream",
     "text": [
      "Collecting efsync\n",
      "  Downloading https://files.pythonhosted.org/packages/dc/6a/d2076c2778a56df0743e5361a9183423b1820d5230d19d43265456c8e972/efsync-0.4.0-py3-none-any.whl\n",
      "Collecting paramiko\n",
      "\u001b[?25l  Downloading https://files.pythonhosted.org/packages/95/19/124e9287b43e6ff3ebb9cdea3e5e8e88475a873c05ccdf8b7e20d2c4201e/paramiko-2.7.2-py2.py3-none-any.whl (206kB)\n",
      "\u001b[K     |████████████████████████████████| 215kB 5.4MB/s \n",
      "\u001b[?25hRequirement already satisfied: boto3 in /usr/local/lib/python3.6/dist-packages (from efsync) (1.14.59)\n",
      "Collecting scp\n",
      "  Downloading https://files.pythonhosted.org/packages/4d/7a/3d76dc5ad8deea79642f50a572e1c057cb27e8b427f83781a2c05ce4e5b6/scp-0.13.2-py2.py3-none-any.whl\n",
      "Collecting pyaml\n",
      "  Downloading https://files.pythonhosted.org/packages/15/c4/1310a054d33abc318426a956e7d6df0df76a6ddfa9c66f6310274fb75d42/pyaml-20.4.0-py2.py3-none-any.whl\n",
      "Collecting pynacl>=1.0.1\n",
      "\u001b[?25l  Downloading https://files.pythonhosted.org/packages/9d/57/2f5e6226a674b2bcb6db531e8b383079b678df5b10cdaa610d6cf20d77ba/PyNaCl-1.4.0-cp35-abi3-manylinux1_x86_64.whl (961kB)\n",
      "\u001b[K     |████████████████████████████████| 962kB 8.1MB/s \n",
      "\u001b[?25hCollecting cryptography>=2.5\n",
      "\u001b[?25l  Downloading https://files.pythonhosted.org/packages/c0/9c/647e559a6e8be493dc2a7a5d15d26cb501ca60ec299b356f23839a673a83/cryptography-3.1-cp35-abi3-manylinux2010_x86_64.whl (2.6MB)\n",
      "\u001b[K     |████████████████████████████████| 2.6MB 14.2MB/s \n",
      "\u001b[?25hCollecting bcrypt>=3.1.3\n",
      "\u001b[?25l  Downloading https://files.pythonhosted.org/packages/26/70/6d218afbe4c73538053c1016dd631e8f25fffc10cd01f5c272d7acf3c03d/bcrypt-3.2.0-cp36-abi3-manylinux2010_x86_64.whl (63kB)\n",
      "\u001b[K     |████████████████████████████████| 71kB 6.5MB/s \n",
      "\u001b[?25hRequirement already satisfied: s3transfer<0.4.0,>=0.3.0 in /usr/local/lib/python3.6/dist-packages (from boto3->efsync) (0.3.3)\n",
      "Requirement already satisfied: jmespath<1.0.0,>=0.7.1 in /usr/local/lib/python3.6/dist-packages (from boto3->efsync) (0.10.0)\n",
      "Requirement already satisfied: botocore<1.18.0,>=1.17.59 in /usr/local/lib/python3.6/dist-packages (from boto3->efsync) (1.17.59)\n",
      "Requirement already satisfied: PyYAML in /usr/local/lib/python3.6/dist-packages (from pyaml->efsync) (3.13)\n",
      "Requirement already satisfied: cffi>=1.4.1 in /usr/local/lib/python3.6/dist-packages (from pynacl>=1.0.1->paramiko->efsync) (1.14.2)\n",
      "Requirement already satisfied: six in /usr/local/lib/python3.6/dist-packages (from pynacl>=1.0.1->paramiko->efsync) (1.15.0)\n",
      "Requirement already satisfied: docutils<0.16,>=0.10 in /usr/local/lib/python3.6/dist-packages (from botocore<1.18.0,>=1.17.59->boto3->efsync) (0.15.2)\n",
      "Requirement already satisfied: urllib3<1.26,>=1.20; python_version != \"3.4\" in /usr/local/lib/python3.6/dist-packages (from botocore<1.18.0,>=1.17.59->boto3->efsync) (1.24.3)\n",
      "Requirement already satisfied: python-dateutil<3.0.0,>=2.1 in /usr/local/lib/python3.6/dist-packages (from botocore<1.18.0,>=1.17.59->boto3->efsync) (2.8.1)\n",
      "Requirement already satisfied: pycparser in /usr/local/lib/python3.6/dist-packages (from cffi>=1.4.1->pynacl>=1.0.1->paramiko->efsync) (2.20)\n",
      "Installing collected packages: pynacl, cryptography, bcrypt, paramiko, scp, pyaml, efsync\n",
      "Successfully installed bcrypt-3.2.0 cryptography-3.1 efsync-0.4.0 paramiko-2.7.2 pyaml-20.4.0 pynacl-1.4.0 scp-0.13.2\n"
     ]
    }
   ],
   "source": [
    "!pip3 install efsync2"
   ]
  },
  {
   "cell_type": "code",
   "execution_count": 14,
   "metadata": {},
   "outputs": [
    {
     "name": "stdout",
     "output_type": "stream",
     "text": [
      "Found existing installation: efsync 0.9.22\n",
      "Uninstalling efsync-0.9.22:\n",
      "  Successfully uninstalled efsync-0.9.22\n"
     ]
    }
   ],
   "source": [
    "!pip uninstall efsync2 -y"
   ]
  },
  {
   "cell_type": "markdown",
   "metadata": {},
   "source": [
    "# Check installed version"
   ]
  },
  {
   "cell_type": "code",
   "execution_count": 16,
   "metadata": {},
   "outputs": [
    {
     "name": "stdout",
     "output_type": "stream",
     "text": [
      "efsync==0.9.24\r\n"
     ]
    }
   ],
   "source": [
    "!pip freeze | grep efsync2"
   ]
  },
  {
   "cell_type": "code",
   "execution_count": 5,
   "metadata": {
    "scrolled": true
   },
   "outputs": [
    {
     "name": "stdout",
     "output_type": "stream",
     "text": [
      "usage: efsync <command> [<args>]\n",
      "\n",
      "optional arguments:\n",
      "  -h, --help            show this help message and exit\n",
      "  --version, -v         show program version\n",
      "  --requirements REQUIREMENTS, -r REQUIREMENTS\n",
      "                        path of your requirements.txt\n",
      "  --config_file CONFIG_FILE, -cf CONFIG_FILE\n",
      "                        path of your efsync.yaml\n",
      "  --python_version PYTHON_VERSION, -py PYTHON_VERSION\n",
      "                        Python version used to install dependencies\n",
      "  --efs_pip_dir EFS_PIP_DIR, -epd EFS_PIP_DIR\n",
      "                        directory where the pip packages will be installed on\n",
      "                        efs\n",
      "  --efs_filesystem_id EFS_FILESYSTEM_ID, -efi EFS_FILESYSTEM_ID\n",
      "                        File System ID from the EFS filesystem\n",
      "  --clean_efs CLEAN_EFS, -ce CLEAN_EFS\n",
      "                        Defines if the efs should be cleaned up before\n",
      "                        uploading\n",
      "  --file_dir FILE_DIR, -fd FILE_DIR\n",
      "                        directory where all other files will be placed\n",
      "  --aws_profile AWS_PROFILE, -ap AWS_PROFILE\n",
      "                        name of the used AWS profile\n",
      "  --aws_region AWS_REGION, -ar AWS_REGION\n",
      "                        aws region where the efs is running\n",
      "  --subnet_Id SUBNET_ID, -sbd SUBNET_ID\n",
      "                        subnet id of the efs\n",
      "  --ec2_key_name EC2_KEY_NAME, -ekn EC2_KEY_NAME\n",
      "                        temporary key name for the ec2 instance\n",
      "  --file_dir_on_ec2 FILE_DIR_ON_EC2, -fdoe FILE_DIR_ON_EC2\n",
      "                        name of the directory where your file from <file_dir>\n",
      "                        will be uploaded\n",
      "  --s3_bucket S3_BUCKET, -s3b S3_BUCKET\n",
      "                        s3 bucket name from where the files will be downloaded\n",
      "  --s3_keyprefix S3_KEYPREFIX, -s3k S3_KEYPREFIX\n",
      "                        s3 keyprefix of the directory in s3. Files will be\n",
      "                        downloaded\n"
     ]
    }
   ],
   "source": [
    "!efsync2 -h"
   ]
  },
  {
   "cell_type": "code",
   "execution_count": 6,
   "metadata": {},
   "outputs": [],
   "source": [
    "from efsync2 import efsync"
   ]
  },
  {
   "cell_type": "markdown",
   "metadata": {},
   "source": [
    "---"
   ]
  },
  {
   "cell_type": "markdown",
   "metadata": {},
   "source": [
    "## Create `requirements.txt` "
   ]
  },
  {
   "cell_type": "code",
   "execution_count": 7,
   "metadata": {},
   "outputs": [
    {
     "name": "stdout",
     "output_type": "stream",
     "text": [
      "Overwriting ./requirements.txt\n"
     ]
    }
   ],
   "source": [
    "%%writefile ./requirements.txt\n",
    "\n",
    "pyjokes\n",
    "pandas\n",
    "numpy\n",
    "requests"
   ]
  },
  {
   "cell_type": "markdown",
   "metadata": {},
   "source": [
    "# Example with `efsync.yaml`"
   ]
  },
  {
   "cell_type": "code",
   "execution_count": 8,
   "metadata": {},
   "outputs": [
    {
     "name": "stdout",
     "output_type": "stream",
     "text": [
      "Overwriting ./efsync.yaml\n"
     ]
    }
   ],
   "source": [
    "%%writefile ./efsync.yaml\n",
    "\n",
    "#standard configuration\n",
    "efs_filesystem_id: fs-2226b27a # aws efs filesystem id (moint point)\n",
    "subnet_Id: subnet-17f97a7d # subnet of which the efs is running in\n",
    "ec2_key_name: efsync-asd913fjgq3 # required key name for starting the ec2 instance\n",
    "clean_efs: all # Defines if the EFS should be cleaned up before. values: `'all'`,`'pip'`,`'file'` uploading\n",
    "# aws profile configuration\n",
    "aws_profile: schueler-vz # aws iam profile with required permission configured in .aws/credentials\n",
    "aws_region: eu-central-1 # the aws region where the efs is running\n",
    "\n",
    "# pip packages configurations\n",
    "efs_pip_dir: lib # pip directory on ec2\n",
    "python_version: 3.8 # python version used for installing pip packages -> should be used as lambda runtime afterwads\n",
    "requirements: requirements.txt # path + file to requirements.txt which holds the installable pip packages\n",
    "# s3 config\n",
    "s3_bucket: efsync-test-bucket # s3 bucket name from files should be downloaded\n",
    "s3_keyprefix: distilbert # s3 keyprefix for the files\n",
    "file_dir_on_ec2: ml # name of the directory where your file from <file_dir> will be uploaded"
   ]
  },
  {
   "cell_type": "code",
   "execution_count": 9,
   "metadata": {},
   "outputs": [
    {
     "name": "stdout",
     "output_type": "stream",
     "text": [
      "2020-10-25 20:12:33,747 - efsync - starting....\n",
      "2020-10-25 20:12:33,748 - efsync - loading config\n",
      "2020-10-25 20:12:33,772 - efsync - creating security group\n",
      "2020-10-25 20:12:34,379 - efsync - loading default security group\n",
      "2020-10-25 20:12:39,444 - efsync - creating ssh key for scp in memory\n",
      "2020-10-25 20:12:40,005 - efsync - starting ec2 instance with security group sg-0ff6539317d7e48da and subnet_Id subnet-17f97a7d\n",
      "2020-10-25 20:18:46,430 - efsync - stopping ec2 instance with instance id i-020e3f3cc4b3d690b\n",
      "2020-10-25 20:19:17,159 - efsync - deleting iam profile\n",
      "2020-10-25 20:19:18,354 - efsync - deleting ssh key\n",
      "2020-10-25 20:19:18,604 - efsync - deleting security group\n",
      "2020-10-25 20:19:18,914 - efsync - #################### finished after 6.752833333333333 minutes ####################\n"
     ]
    },
    {
     "data": {
      "text/plain": [
       "True"
      ]
     },
     "execution_count": 9,
     "metadata": {},
     "output_type": "execute_result"
    }
   ],
   "source": [
    "from efsync2 import efsync\n",
    "\n",
    "efsync('./efsync.yaml')"
   ]
  },
  {
   "cell_type": "markdown",
   "metadata": {},
   "source": [
    "# Example with pyton `dict`"
   ]
  },
  {
   "cell_type": "code",
   "execution_count": 10,
   "metadata": {},
   "outputs": [],
   "source": [
    "config = {\n",
    "  'efs_filesystem_id': 'fs-2226b27a', # aws efs filesystem id (moint point)\n",
    "  'subnet_Id': 'subnet-17f97a7d', # subnet of which the efs is running in\n",
    "  'ec2_key_name':'efsync-asd913fjgq3',  # required key name for starting the ec2 instance\n",
    "  'clean_efs': 'all', # Defines if the EFS should be cleaned up before. values: `'all'`,`'pip'`,`'file'` uploading\n",
    "  'aws_profile': 'schueler-vz', # aws iam profile with required permission configured in .aws/credentials\n",
    "  'aws_region': 'eu-central-1', # the aws region where the efs is running\n",
    "  'efs_pip_dir': 'lib',  # pip directory on ec2\n",
    "  'python_version': 3.8,  # python version used for installing pip packages -> should be used as lambda runtime afterwads\n",
    "  'requirements': 'requirements.txt', # path + file to requirements.txt which holds the installable pip packages\n",
    "  's3_bucket': 'efsync-test-bucket', # s3 bucket name from files should be downloaded\n",
    "  's3_keyprefix': 'distilbert', # s3 keyprefix for the files\n",
    "  'file_dir_on_ec2': 'ml' # name of the directory where your file from <file_dir> will be uploaded\n",
    "}"
   ]
  },
  {
   "cell_type": "code",
   "execution_count": 17,
   "metadata": {},
   "outputs": [
    {
     "name": "stdout",
     "output_type": "stream",
     "text": [
      "2020-10-25 21:02:26,188 - efsync - starting....\n",
      "2020-10-25 21:02:26,189 - efsync - loading config\n",
      "2020-10-25 21:02:26,205 - efsync - creating security group\n",
      "2020-10-25 21:02:26,900 - efsync - loading default security group\n",
      "2020-10-25 21:02:27,162 - efsync - creating ssh key for scp in memory\n",
      "2020-10-25 21:02:27,408 - efsync - starting ec2 instance with security group sg-009e0c433aae54ad3 and subnet_Id subnet-17f97a7d\n",
      "2020-10-25 21:09:14,586 - efsync - stopping ec2 instance with instance id i-0a54cf19e1cac5898\n",
      "2020-10-25 21:09:45,663 - efsync - deleting iam profile\n",
      "2020-10-25 21:09:46,896 - efsync - deleting ssh key\n",
      "2020-10-25 21:09:47,176 - efsync - deleting security group\n",
      "2020-10-25 21:09:47,676 - efsync - #################### finished after 7.3581666666666665 minutes ####################\n"
     ]
    },
    {
     "data": {
      "text/plain": [
       "True"
      ]
     },
     "execution_count": 17,
     "metadata": {},
     "output_type": "execute_result"
    }
   ],
   "source": [
    "from efsync2 import efsync\n",
    "\n",
    "\n",
    "efsync(config)"
   ]
  },
  {
   "cell_type": "markdown",
   "metadata": {},
   "source": [
    "# Example with cli and `efsync.yaml`"
   ]
  },
  {
   "cell_type": "code",
   "execution_count": 12,
   "metadata": {},
   "outputs": [
    {
     "name": "stdout",
     "output_type": "stream",
     "text": [
      "2020-10-25 20:29:45,885 - efsync - starting....\n",
      "2020-10-25 20:29:45,885 - efsync - loading config\n",
      "2020-10-25 20:29:45,895 - efsync - creating security group\n",
      "2020-10-25 20:29:46,482 - efsync - loading default security group\n",
      "2020-10-25 20:29:46,814 - efsync - creating ssh key for scp in memory\n",
      "2020-10-25 20:29:47,943 - efsync - starting ec2 instance with security group sg-082ab943c8ddc652c and subnet_Id subnet-17f97a7d\n",
      "2020-10-25 20:36:18,962 - efsync - stopping ec2 instance with instance id i-0773347af1937b71b\n",
      "2020-10-25 20:36:50,055 - efsync - deleting iam profile\n",
      "2020-10-25 20:36:51,210 - efsync - deleting ssh key\n",
      "2020-10-25 20:36:51,438 - efsync - deleting security group\n",
      "2020-10-25 20:36:51,751 - efsync - #################### finished after 7.097833333333333 minutes ####################\n"
     ]
    }
   ],
   "source": [
    "!efsync2 -cf efsync.yaml"
   ]
  },
  {
   "cell_type": "markdown",
   "metadata": {},
   "source": [
    "# Example with cli and parameters"
   ]
  },
  {
   "cell_type": "code",
   "execution_count": 13,
   "metadata": {
    "scrolled": true
   },
   "outputs": [
    {
     "name": "stdout",
     "output_type": "stream",
     "text": [
      "2020-10-25 20:37:38,406 - efsync - starting....\n",
      "2020-10-25 20:37:38,406 - efsync - loading config\n",
      "2020-10-25 20:37:38,415 - efsync - creating security group\n",
      "2020-10-25 20:37:38,999 - efsync - loading default security group\n",
      "2020-10-25 20:37:39,258 - efsync - creating ssh key for scp in memory\n",
      "2020-10-25 20:37:39,442 - efsync - starting ec2 instance with security group sg-040231be49803d280 and subnet_Id subnet-17f97a7d\n",
      "2020-10-25 20:43:56,074 - efsync - stopping ec2 instance with instance id i-013fd81d67e42c534\n",
      "2020-10-25 20:44:29,590 - efsync - deleting iam profile\n",
      "2020-10-25 20:44:34,379 - efsync - deleting ssh key\n",
      "2020-10-25 20:44:38,226 - efsync - deleting security group\n",
      "2020-10-25 20:44:39,858 - efsync - #################### finished after 7.024166666666667 minutes ####################\n"
     ]
    }
   ],
   "source": [
    "!efsync2 --efs_filesystem_id  fs-2226b27a \\\n",
    "        --subnet_Id subnet-17f97a7d \\\n",
    "        --ec2_key_name efsync-asd913fjgq3 \\\n",
    "        --clean_efs all \\\n",
    "        --aws_profile schueler-vz \\\n",
    "        --aws_region eu-central-1 \\\n",
    "        --efs_pip_dir lib \\\n",
    "        --python_version 3.8 \\\n",
    "        --requirements requirements.txt \\\n",
    "        --s3_bucket efsync-test-bucket \\\n",
    "        --s3_keyprefix distilbert \\\n",
    "        --file_dir_on_ec2 ml"
   ]
  },
  {
   "cell_type": "code",
   "execution_count": null,
   "metadata": {},
   "outputs": [],
   "source": []
  }
 ],
 "metadata": {
  "colab": {
   "authorship_tag": "ABX9TyPDRbc5orFAO1WZPC4Bxn2Y",
   "include_colab_link": true,
   "name": "efsync example sdk & cli.ipynb",
   "provenance": []
  },
  "kernelspec": {
   "display_name": "Python 3",
   "language": "python",
   "name": "python3"
  },
  "language_info": {
   "codemirror_mode": {
    "name": "ipython",
    "version": 3
   },
   "file_extension": ".py",
   "mimetype": "text/x-python",
   "name": "python",
   "nbconvert_exporter": "python",
   "pygments_lexer": "ipython3",
   "version": "3.8.10"
  }
 },
 "nbformat": 4,
 "nbformat_minor": 1
}
